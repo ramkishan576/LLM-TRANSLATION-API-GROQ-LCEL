{
 "cells": [
  {
   "cell_type": "code",
   "execution_count": 1,
   "id": "11da0d48",
   "metadata": {},
   "outputs": [
    {
     "data": {
      "text/plain": [
       "True"
      ]
     },
     "execution_count": 1,
     "metadata": {},
     "output_type": "execute_result"
    }
   ],
   "source": [
    "import os \n",
    "\n",
    "from dotenv import load_dotenv \n",
    "\n",
    "load_dotenv()"
   ]
  },
  {
   "cell_type": "code",
   "execution_count": 2,
   "id": "1beddb65",
   "metadata": {},
   "outputs": [],
   "source": [
    "os.environ[\"GROQ_API_KEY\"] = os.getenv(\"GROQ_API_KEY\")"
   ]
  },
  {
   "cell_type": "code",
   "execution_count": 18,
   "id": "a5494a27",
   "metadata": {},
   "outputs": [],
   "source": [
    "#print(\"GROQ_API_KEY set to:\", os.environ[\"GROQ_API_KEY\"])"
   ]
  },
  {
   "cell_type": "code",
   "execution_count": 4,
   "id": "2a476b89",
   "metadata": {},
   "outputs": [],
   "source": [
    "# !pip install langchain_groq"
   ]
  },
  {
   "cell_type": "code",
   "execution_count": 5,
   "id": "268d8ea5",
   "metadata": {},
   "outputs": [],
   "source": [
    "from langchain_openai import ChatOpenAI\n",
    "from langchain_groq import ChatGroq\n",
    "\n",
    "model=ChatGroq(\n",
    "    model=\"Gemma2-9b-it\",\n",
    "    groq_api_key=os.environ[\"GROQ_API_KEY\"],\n",
    ")"
   ]
  },
  {
   "cell_type": "code",
   "execution_count": 6,
   "id": "750b1ec8",
   "metadata": {},
   "outputs": [
    {
     "data": {
      "text/plain": [
       "ChatGroq(client=<groq.resources.chat.completions.Completions object at 0x0000019EDC2528C0>, async_client=<groq.resources.chat.completions.AsyncCompletions object at 0x0000019EDC250430>, model_name='Gemma2-9b-it', model_kwargs={}, groq_api_key=SecretStr('**********'))"
      ]
     },
     "execution_count": 6,
     "metadata": {},
     "output_type": "execute_result"
    }
   ],
   "source": [
    "model "
   ]
  },
  {
   "cell_type": "code",
   "execution_count": 7,
   "id": "f8693704",
   "metadata": {},
   "outputs": [],
   "source": [
    "from langchain_core.messages import SystemMessage, HumanMessage\n",
    "\n",
    "messages=[\n",
    "    SystemMessage(\n",
    "        content=\"Translate the following English text to telugu.\"\n",
    "    \n",
    "    ),\n",
    "    HumanMessage(\n",
    "        content=\"how are you?\"\n",
    "    )\n",
    "]"
   ]
  },
  {
   "cell_type": "code",
   "execution_count": 8,
   "id": "fa7d3db1",
   "metadata": {},
   "outputs": [
    {
     "data": {
      "text/plain": [
       "AIMessage(content='మీరు ఎలా ఉన్నారు? (Meeyaru elaa unnaru?) \\n\\n\\nThis is the most common and polite way to ask \"How are you?\" in Telugu.  \\n', additional_kwargs={}, response_metadata={'token_usage': {'completion_tokens': 41, 'prompt_tokens': 22, 'total_tokens': 63, 'completion_time': 0.074545455, 'prompt_time': 0.002162075, 'queue_time': 0.24401215499999998, 'total_time': 0.07670753}, 'model_name': 'Gemma2-9b-it', 'system_fingerprint': 'fp_10c08bf97d', 'finish_reason': 'stop', 'logprobs': None}, id='run--89d4da34-c275-488e-8329-238e46f52c87-0', usage_metadata={'input_tokens': 22, 'output_tokens': 41, 'total_tokens': 63})"
      ]
     },
     "execution_count": 8,
     "metadata": {},
     "output_type": "execute_result"
    }
   ],
   "source": [
    "model.invoke(messages)"
   ]
  },
  {
   "cell_type": "code",
   "execution_count": 9,
   "id": "98d6d9c4",
   "metadata": {},
   "outputs": [],
   "source": [
    "response=model.invoke(messages)"
   ]
  },
  {
   "cell_type": "code",
   "execution_count": 10,
   "id": "ea8de611",
   "metadata": {},
   "outputs": [
    {
     "data": {
      "text/plain": [
       "langchain_core.messages.ai.AIMessage"
      ]
     },
     "execution_count": 10,
     "metadata": {},
     "output_type": "execute_result"
    }
   ],
   "source": [
    "type(response)"
   ]
  },
  {
   "cell_type": "code",
   "execution_count": 11,
   "id": "f665dea6",
   "metadata": {},
   "outputs": [
    {
     "name": "stdout",
     "output_type": "stream",
     "text": [
      "మీరు ఎలా ఉన్నారు? (Mēru elā unnaru?) \n",
      "\n",
      "\n",
      "This is the most common way to say \"How are you?\" in Telugu.\n",
      "\n"
     ]
    }
   ],
   "source": [
    "from langchain_core.output_parsers import StrOutputParser\n",
    "\n",
    "parser=StrOutputParser()\n",
    "\n",
    "result=parser.invoke(response)\n",
    "\n",
    "print(result)"
   ]
  },
  {
   "cell_type": "markdown",
   "id": "3075eef3",
   "metadata": {},
   "source": [
    "# USING LCEL--> Langchain Expression Language\n",
    "It is a simple and flexible way to build LLM (Large Language Model) pipelines using chain-like syntax in LangChain.LCEL lets you connect prompts, models, tools, and logic like Lego blocks — all in one clean, readable line of code.\n"
   ]
  },
  {
   "cell_type": "code",
   "execution_count": 12,
   "id": "8ae569ff",
   "metadata": {},
   "outputs": [
    {
     "data": {
      "text/plain": [
       "'మీరు ఎలా ఉన్నారు? (Meeru ela unnaru?) \\n'"
      ]
     },
     "execution_count": 12,
     "metadata": {},
     "output_type": "execute_result"
    }
   ],
   "source": [
    "chain=model | parser\n",
    "\n",
    "chain.invoke(messages)"
   ]
  },
  {
   "cell_type": "markdown",
   "id": "b41ee3c6",
   "metadata": {},
   "source": [
    "# Instead of giving the model a list of messages everytime, we can use prompt templates"
   ]
  },
  {
   "cell_type": "code",
   "execution_count": 13,
   "id": "de8f169e",
   "metadata": {},
   "outputs": [],
   "source": [
    "from langchain_core.prompts import ChatPromptTemplate\n",
    "\n",
    "generic_template=\"Translate the folowing into {language}.\"\n",
    "\n",
    "prompt=ChatPromptTemplate.from_messages(\n",
    "    [(\"system\", generic_template), (\"user\", \"{text}\")],\n",
    ")\n"
   ]
  },
  {
   "cell_type": "code",
   "execution_count": 14,
   "id": "bf66d3c6",
   "metadata": {},
   "outputs": [
    {
     "data": {
      "text/plain": [
       "ChatPromptValue(messages=[SystemMessage(content='Translate the folowing into telugu.', additional_kwargs={}, response_metadata={}), HumanMessage(content='how are you?', additional_kwargs={}, response_metadata={})])"
      ]
     },
     "execution_count": 14,
     "metadata": {},
     "output_type": "execute_result"
    }
   ],
   "source": [
    "prompt.invoke({\n",
    "    \"language\":\"telugu\",\n",
    "    \"text\":\"how are you?\"\n",
    "})"
   ]
  },
  {
   "cell_type": "code",
   "execution_count": 15,
   "id": "8410b57f",
   "metadata": {},
   "outputs": [],
   "source": [
    "result=prompt.invoke({\n",
    "    \"language\":\"telugu\",\n",
    "    \"text\":\"how are you?\"\n",
    "})"
   ]
  },
  {
   "cell_type": "code",
   "execution_count": 16,
   "id": "34d61d7a",
   "metadata": {},
   "outputs": [
    {
     "data": {
      "text/plain": [
       "[SystemMessage(content='Translate the folowing into telugu.', additional_kwargs={}, response_metadata={}),\n",
       " HumanMessage(content='how are you?', additional_kwargs={}, response_metadata={})]"
      ]
     },
     "execution_count": 16,
     "metadata": {},
     "output_type": "execute_result"
    }
   ],
   "source": [
    "result.to_messages()"
   ]
  },
  {
   "cell_type": "markdown",
   "id": "e84df3e2",
   "metadata": {},
   "source": [
    "# Using LCEL with three components prompt, model and parser"
   ]
  },
  {
   "cell_type": "code",
   "execution_count": 19,
   "id": "60a93d6d",
   "metadata": {},
   "outputs": [
    {
     "data": {
      "text/plain": [
       "'మీకు ఎలా ఉన్నారు? (Mēku elā unnaru?) \\n\\n\\nThis is the most common way to ask \"how are you?\" in Telugu. \\n'"
      ]
     },
     "execution_count": 19,
     "metadata": {},
     "output_type": "execute_result"
    }
   ],
   "source": [
    "chain=prompt | model | parser\n",
    "\n",
    "chain.invoke({\n",
    "    \"language\":\"telugu\",\n",
    "    \"text\":\"how are you?\"\n",
    "})"
   ]
  },
  {
   "cell_type": "code",
   "execution_count": null,
   "id": "2805f260",
   "metadata": {},
   "outputs": [],
   "source": []
  }
 ],
 "metadata": {
  "kernelspec": {
   "display_name": "Python 3",
   "language": "python",
   "name": "python3"
  },
  "language_info": {
   "codemirror_mode": {
    "name": "ipython",
    "version": 3
   },
   "file_extension": ".py",
   "mimetype": "text/x-python",
   "name": "python",
   "nbconvert_exporter": "python",
   "pygments_lexer": "ipython3",
   "version": "3.10.0"
  }
 },
 "nbformat": 4,
 "nbformat_minor": 5
}
